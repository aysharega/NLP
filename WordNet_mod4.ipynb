{
  "nbformat": 4,
  "nbformat_minor": 0,
  "metadata": {
    "colab": {
      "name": "WordNet.ipynb",
      "provenance": [],
      "collapsed_sections": [],
      "authorship_tag": "ABX9TyNoQ2bJf9UIho3uu8wprMG2",
      "include_colab_link": true
    },
    "kernelspec": {
      "name": "python3",
      "display_name": "Python 3"
    },
    "language_info": {
      "name": "python"
    }
  },
  "cells": [
    {
      "cell_type": "markdown",
      "metadata": {
        "id": "view-in-github",
        "colab_type": "text"
      },
      "source": [
        "<a href=\"https://colab.research.google.com/github/aysharega/NLP/blob/main/WordNet_mod4.ipynb\" target=\"_parent\"><img src=\"https://colab.research.google.com/assets/colab-badge.svg\" alt=\"Open In Colab\"/></a>"
      ]
    },
    {
      "cell_type": "code",
      "metadata": {
        "colab": {
          "base_uri": "https://localhost:8080/"
        },
        "id": "dWnUrzGHsg2w",
        "outputId": "c9997233-7f0b-468c-f30e-6ad89926710a"
      },
      "source": [
        "#WordNet and Synset\n",
        "import nltk\n",
        "nltk.download('wordnet')\n",
        "from nltk.corpus import wordnet\n",
        "synset = wordnet.synsets (\"Travel\")\n",
        "print('Word and Type:'+ synset[0].name())\n",
        "print('Synonym of Travel is:'+ synset[0].lemmas()[0].name())\n",
        "print('The meaning of the word:'+ synset[0].definition())\n",
        "print('The meaning of the word:'+ synset[2].definition())\n",
        "print('The meaning of the word:'+ synset[4].definition())\n",
        "print('Example of Travel :' + str(synset[0].examples()))\n"
      ],
      "execution_count": null,
      "outputs": [
        {
          "output_type": "stream",
          "name": "stdout",
          "text": [
            "[nltk_data] Downloading package wordnet to /root/nltk_data...\n",
            "[nltk_data]   Package wordnet is already up-to-date!\n",
            "Word and Type:travel.n.01\n",
            "Synonym of Travel is:travel\n",
            "The meaning of the word:the act of going from one place to another\n",
            "The meaning of the word:self-propelled movement\n",
            "The meaning of the word:undertake a journey or trip\n",
            "Example of Travel : ['he enjoyed selling but he hated the travel']\n"
          ]
        }
      ]
    },
    {
      "cell_type": "code",
      "metadata": {
        "colab": {
          "base_uri": "https://localhost:8080/"
        },
        "id": "hzcIuMCcGH_w",
        "outputId": "225dbbde-37f2-4c04-807e-4d8bd65e74a8"
      },
      "source": [
        "from nltk.wsd import lesk\n",
        "import nltk\n",
        "nltk.download('punkt')\n",
        "from nltk.tokenize import word_tokenize\n",
        "\n",
        "sent=\"This device is used to jam the signal\"\n",
        "tokens=word_tokenize(sent)\n",
        "op1=lesk(tokens,\"jam\")\n",
        "print(op1)\n",
        "print(op1.definition())\n",
        "sent2=\"I stuck in a traffic jam\"\n",
        "tokens=word_tokenize(sent2)\n",
        "op2=lesk(tokens,\"jam\")\n",
        "print(op2)\n",
        "print(op2.definition())\n",
        "\n"
      ],
      "execution_count": null,
      "outputs": [
        {
          "output_type": "stream",
          "name": "stdout",
          "text": [
            "[nltk_data] Downloading package punkt to /root/nltk_data...\n",
            "[nltk_data]   Unzipping tokenizers/punkt.zip.\n",
            "Synset('jamming.n.01')\n",
            "deliberate radiation or reflection of electromagnetic energy for the purpose of disrupting enemy use of electronic devices or systems\n",
            "Synset('jam.v.05')\n",
            "get stuck and immobilized\n"
          ]
        }
      ]
    },
    {
      "cell_type": "code",
      "metadata": {
        "colab": {
          "base_uri": "https://localhost:8080/"
        },
        "id": "6t17tp1eIQ0K",
        "outputId": "cef9745d-faf3-4630-c099-5f60259e8c37"
      },
      "source": [
        "from nltk.corpus import brown\n",
        "import nltk\n",
        "nltk.download('brown')\n",
        "print(brown.categories())\n",
        "brown.words(categories='news')\n"
      ],
      "execution_count": null,
      "outputs": [
        {
          "output_type": "stream",
          "name": "stdout",
          "text": [
            "[nltk_data] Downloading package brown to /root/nltk_data...\n",
            "[nltk_data]   Unzipping corpora/brown.zip.\n",
            "['adventure', 'belles_lettres', 'editorial', 'fiction', 'government', 'hobbies', 'humor', 'learned', 'lore', 'mystery', 'news', 'religion', 'reviews', 'romance', 'science_fiction']\n"
          ]
        },
        {
          "output_type": "execute_result",
          "data": {
            "text/plain": [
              "['The', 'Fulton', 'County', 'Grand', 'Jury', 'said', ...]"
            ]
          },
          "metadata": {},
          "execution_count": 54
        }
      ]
    },
    {
      "cell_type": "code",
      "metadata": {
        "colab": {
          "base_uri": "https://localhost:8080/"
        },
        "id": "8t4IkCeOGnPE",
        "outputId": "ec6a165e-cca2-4bc7-ad5b-c202405d174e"
      },
      "source": [
        "w1 = wordnet.synset('jamming.n.01')\n",
        "w2 = wordnet.synset('jam.v.05')\n",
        "print(w1.wup_similarity(w2))"
      ],
      "execution_count": null,
      "outputs": [
        {
          "output_type": "stream",
          "name": "stdout",
          "text": [
            "None\n"
          ]
        }
      ]
    },
    {
      "cell_type": "code",
      "metadata": {
        "colab": {
          "base_uri": "https://localhost:8080/"
        },
        "id": "C55-t0LK2WYk",
        "outputId": "b0d00429-e220-4d5f-c0a9-b840958169ef"
      },
      "source": [
        "#WordNet and Synset\n",
        "import nltk\n",
        "nltk.download('wordnet')\n",
        "from nltk.corpus import wordnet\n",
        "synset = wordnet.synsets (\"drop\")\n",
        "i=0\n",
        "while(i<=12):\n",
        "  print('Word and Type:'+ synset[i].name())\n",
        "  i=i+1\n",
        "\n",
        "i=0\n",
        "while(i<=12):\n",
        "  print('The meaning of the word:'+ synset[i].definition())\n",
        "  i=i+1\n",
        "\n",
        "i=0\n",
        "while(i<=12):\n",
        "  print('Example of Travel :' + str(synset[i].examples()))\n",
        "  i=i+1\n"
      ],
      "execution_count": null,
      "outputs": [
        {
          "output_type": "stream",
          "name": "stdout",
          "text": [
            "[nltk_data] Downloading package wordnet to /root/nltk_data...\n",
            "[nltk_data]   Package wordnet is already up-to-date!\n",
            "Word and Type:drop.n.01\n",
            "Word and Type:drop.n.02\n",
            "Word and Type:drop.n.03\n",
            "Word and Type:cliff.n.01\n",
            "Word and Type:drop.n.05\n",
            "Word and Type:drop.n.06\n",
            "Word and Type:drop_curtain.n.01\n",
            "Word and Type:drop.n.08\n",
            "Word and Type:drop.n.09\n",
            "Word and Type:drop.v.01\n",
            "Word and Type:drop.v.02\n",
            "Word and Type:drop.v.03\n",
            "Word and Type:sink.v.01\n",
            "The meaning of the word:a shape that is spherical and small\n",
            "The meaning of the word:a small indefinite quantity (especially of a liquid)\n",
            "The meaning of the word:a sudden sharp decrease in some quantity\n",
            "The meaning of the word:a steep high face of rock\n",
            "The meaning of the word:a predetermined hiding place for the deposit and distribution of illicit goods (such as drugs or stolen property)\n",
            "The meaning of the word:a free and rapid descent by the force of gravity\n",
            "The meaning of the word:a curtain that can be lowered and raised onto a stage from the flies; often used as background scenery\n",
            "The meaning of the word:a central depository where things can be left or picked up\n",
            "The meaning of the word:the act of dropping something\n",
            "The meaning of the word:let fall to the ground\n",
            "The meaning of the word:to fall vertically\n",
            "The meaning of the word:go down in value\n",
            "The meaning of the word:fall or descend to a lower place or level\n",
            "Example of Travel :['he studied the shapes of low-viscosity drops', 'beads of sweat on his forehead']\n",
            "Example of Travel :['he had a drop too much to drink', 'a drop of each sample was analyzed', 'there is not a drop of pity in that man', 'years afterward, they would pay the blood-money, driblet by driblet\"--Kipling']\n",
            "Example of Travel :['a drop of 57 points on the Dow Jones index', 'there was a drop in pressure in the pulmonary artery', 'a dip in prices', 'when that became known the price of their stock went into free fall']\n",
            "Example of Travel :['he stood on a high cliff overlooking the town', 'a steep drop']\n",
            "Example of Travel :[]\n",
            "Example of Travel :['it was a miracle that he survived the drop from that height']\n",
            "Example of Travel :[]\n",
            "Example of Travel :[]\n",
            "Example of Travel :['they expected the drop would be successful']\n",
            "Example of Travel :[\"Don't drop the dishes\"]\n",
            "Example of Travel :['the bombs are dropping on enemy targets']\n",
            "Example of Travel :['Stock prices dropped']\n",
            "Example of Travel :['He sank to his knees']\n"
          ]
        }
      ]
    },
    {
      "cell_type": "code",
      "metadata": {
        "colab": {
          "base_uri": "https://localhost:8080/"
        },
        "id": "uMg5oxdez_Yu",
        "outputId": "7028954f-3afb-4191-da9f-24b44a5515af"
      },
      "source": [
        "w1 =wordnet.synset('ship.n.01')\n",
        "w2 =wordnet.synset('water.n.01')\n",
        "\n",
        "print(w1.wup_similarity(w2))"
      ],
      "execution_count": null,
      "outputs": [
        {
          "output_type": "stream",
          "name": "stdout",
          "text": [
            "0.23529411764705882\n"
          ]
        }
      ]
    }
  ]
}